{
 "cells": [
  {
   "cell_type": "code",
   "execution_count": 1,
   "id": "80b892e8",
   "metadata": {},
   "outputs": [],
   "source": [
    "import requests\n",
    "from bs4 import BeautifulSoup\n",
    "import mysql.connector\n",
    "import getpass\n",
    "import pandas as pd"
   ]
  },
  {
   "cell_type": "code",
   "execution_count": 2,
   "id": "05c74a97",
   "metadata": {},
   "outputs": [],
   "source": [
    "res = requests.get(\"https://books.toscrape.com/\")"
   ]
  },
  {
   "cell_type": "code",
   "execution_count": 3,
   "id": "67e4e106",
   "metadata": {},
   "outputs": [],
   "source": [
    "soup = BeautifulSoup(res.text , 'html.parser')"
   ]
  },
  {
   "cell_type": "code",
   "execution_count": 4,
   "id": "0383076c",
   "metadata": {},
   "outputs": [
    {
     "data": {
      "text/plain": [
       "<ul class=\"nav nav-list\">\n",
       "<li>\n",
       "<a href=\"catalogue/category/books_1/index.html\">\n",
       "                            \n",
       "                                Books\n",
       "                            \n",
       "                        </a>\n",
       "<ul>\n",
       "<li>\n",
       "<a href=\"catalogue/category/books/travel_2/index.html\">\n",
       "                            \n",
       "                                Travel\n",
       "                            \n",
       "                        </a>\n",
       "</li>\n",
       "<li>\n",
       "<a href=\"catalogue/category/books/mystery_3/index.html\">\n",
       "                            \n",
       "                                Mystery\n",
       "                            \n",
       "                        </a>\n",
       "</li>\n",
       "<li>\n",
       "<a href=\"catalogue/category/books/historical-fiction_4/index.html\">\n",
       "                            \n",
       "                                Historical Fiction\n",
       "                            \n",
       "                        </a>\n",
       "</li>\n",
       "<li>\n",
       "<a href=\"catalogue/category/books/sequential-art_5/index.html\">\n",
       "                            \n",
       "                                Sequential Art\n",
       "                            \n",
       "                        </a>\n",
       "</li>\n",
       "<li>\n",
       "<a href=\"catalogue/category/books/classics_6/index.html\">\n",
       "                            \n",
       "                                Classics\n",
       "                            \n",
       "                        </a>\n",
       "</li>\n",
       "<li>\n",
       "<a href=\"catalogue/category/books/philosophy_7/index.html\">\n",
       "                            \n",
       "                                Philosophy\n",
       "                            \n",
       "                        </a>\n",
       "</li>\n",
       "<li>\n",
       "<a href=\"catalogue/category/books/romance_8/index.html\">\n",
       "                            \n",
       "                                Romance\n",
       "                            \n",
       "                        </a>\n",
       "</li>\n",
       "<li>\n",
       "<a href=\"catalogue/category/books/womens-fiction_9/index.html\">\n",
       "                            \n",
       "                                Womens Fiction\n",
       "                            \n",
       "                        </a>\n",
       "</li>\n",
       "<li>\n",
       "<a href=\"catalogue/category/books/fiction_10/index.html\">\n",
       "                            \n",
       "                                Fiction\n",
       "                            \n",
       "                        </a>\n",
       "</li>\n",
       "<li>\n",
       "<a href=\"catalogue/category/books/childrens_11/index.html\">\n",
       "                            \n",
       "                                Childrens\n",
       "                            \n",
       "                        </a>\n",
       "</li>\n",
       "<li>\n",
       "<a href=\"catalogue/category/books/religion_12/index.html\">\n",
       "                            \n",
       "                                Religion\n",
       "                            \n",
       "                        </a>\n",
       "</li>\n",
       "<li>\n",
       "<a href=\"catalogue/category/books/nonfiction_13/index.html\">\n",
       "                            \n",
       "                                Nonfiction\n",
       "                            \n",
       "                        </a>\n",
       "</li>\n",
       "<li>\n",
       "<a href=\"catalogue/category/books/music_14/index.html\">\n",
       "                            \n",
       "                                Music\n",
       "                            \n",
       "                        </a>\n",
       "</li>\n",
       "<li>\n",
       "<a href=\"catalogue/category/books/default_15/index.html\">\n",
       "                            \n",
       "                                Default\n",
       "                            \n",
       "                        </a>\n",
       "</li>\n",
       "<li>\n",
       "<a href=\"catalogue/category/books/science-fiction_16/index.html\">\n",
       "                            \n",
       "                                Science Fiction\n",
       "                            \n",
       "                        </a>\n",
       "</li>\n",
       "<li>\n",
       "<a href=\"catalogue/category/books/sports-and-games_17/index.html\">\n",
       "                            \n",
       "                                Sports and Games\n",
       "                            \n",
       "                        </a>\n",
       "</li>\n",
       "<li>\n",
       "<a href=\"catalogue/category/books/add-a-comment_18/index.html\">\n",
       "                            \n",
       "                                Add a comment\n",
       "                            \n",
       "                        </a>\n",
       "</li>\n",
       "<li>\n",
       "<a href=\"catalogue/category/books/fantasy_19/index.html\">\n",
       "                            \n",
       "                                Fantasy\n",
       "                            \n",
       "                        </a>\n",
       "</li>\n",
       "<li>\n",
       "<a href=\"catalogue/category/books/new-adult_20/index.html\">\n",
       "                            \n",
       "                                New Adult\n",
       "                            \n",
       "                        </a>\n",
       "</li>\n",
       "<li>\n",
       "<a href=\"catalogue/category/books/young-adult_21/index.html\">\n",
       "                            \n",
       "                                Young Adult\n",
       "                            \n",
       "                        </a>\n",
       "</li>\n",
       "<li>\n",
       "<a href=\"catalogue/category/books/science_22/index.html\">\n",
       "                            \n",
       "                                Science\n",
       "                            \n",
       "                        </a>\n",
       "</li>\n",
       "<li>\n",
       "<a href=\"catalogue/category/books/poetry_23/index.html\">\n",
       "                            \n",
       "                                Poetry\n",
       "                            \n",
       "                        </a>\n",
       "</li>\n",
       "<li>\n",
       "<a href=\"catalogue/category/books/paranormal_24/index.html\">\n",
       "                            \n",
       "                                Paranormal\n",
       "                            \n",
       "                        </a>\n",
       "</li>\n",
       "<li>\n",
       "<a href=\"catalogue/category/books/art_25/index.html\">\n",
       "                            \n",
       "                                Art\n",
       "                            \n",
       "                        </a>\n",
       "</li>\n",
       "<li>\n",
       "<a href=\"catalogue/category/books/psychology_26/index.html\">\n",
       "                            \n",
       "                                Psychology\n",
       "                            \n",
       "                        </a>\n",
       "</li>\n",
       "<li>\n",
       "<a href=\"catalogue/category/books/autobiography_27/index.html\">\n",
       "                            \n",
       "                                Autobiography\n",
       "                            \n",
       "                        </a>\n",
       "</li>\n",
       "<li>\n",
       "<a href=\"catalogue/category/books/parenting_28/index.html\">\n",
       "                            \n",
       "                                Parenting\n",
       "                            \n",
       "                        </a>\n",
       "</li>\n",
       "<li>\n",
       "<a href=\"catalogue/category/books/adult-fiction_29/index.html\">\n",
       "                            \n",
       "                                Adult Fiction\n",
       "                            \n",
       "                        </a>\n",
       "</li>\n",
       "<li>\n",
       "<a href=\"catalogue/category/books/humor_30/index.html\">\n",
       "                            \n",
       "                                Humor\n",
       "                            \n",
       "                        </a>\n",
       "</li>\n",
       "<li>\n",
       "<a href=\"catalogue/category/books/horror_31/index.html\">\n",
       "                            \n",
       "                                Horror\n",
       "                            \n",
       "                        </a>\n",
       "</li>\n",
       "<li>\n",
       "<a href=\"catalogue/category/books/history_32/index.html\">\n",
       "                            \n",
       "                                History\n",
       "                            \n",
       "                        </a>\n",
       "</li>\n",
       "<li>\n",
       "<a href=\"catalogue/category/books/food-and-drink_33/index.html\">\n",
       "                            \n",
       "                                Food and Drink\n",
       "                            \n",
       "                        </a>\n",
       "</li>\n",
       "<li>\n",
       "<a href=\"catalogue/category/books/christian-fiction_34/index.html\">\n",
       "                            \n",
       "                                Christian Fiction\n",
       "                            \n",
       "                        </a>\n",
       "</li>\n",
       "<li>\n",
       "<a href=\"catalogue/category/books/business_35/index.html\">\n",
       "                            \n",
       "                                Business\n",
       "                            \n",
       "                        </a>\n",
       "</li>\n",
       "<li>\n",
       "<a href=\"catalogue/category/books/biography_36/index.html\">\n",
       "                            \n",
       "                                Biography\n",
       "                            \n",
       "                        </a>\n",
       "</li>\n",
       "<li>\n",
       "<a href=\"catalogue/category/books/thriller_37/index.html\">\n",
       "                            \n",
       "                                Thriller\n",
       "                            \n",
       "                        </a>\n",
       "</li>\n",
       "<li>\n",
       "<a href=\"catalogue/category/books/contemporary_38/index.html\">\n",
       "                            \n",
       "                                Contemporary\n",
       "                            \n",
       "                        </a>\n",
       "</li>\n",
       "<li>\n",
       "<a href=\"catalogue/category/books/spirituality_39/index.html\">\n",
       "                            \n",
       "                                Spirituality\n",
       "                            \n",
       "                        </a>\n",
       "</li>\n",
       "<li>\n",
       "<a href=\"catalogue/category/books/academic_40/index.html\">\n",
       "                            \n",
       "                                Academic\n",
       "                            \n",
       "                        </a>\n",
       "</li>\n",
       "<li>\n",
       "<a href=\"catalogue/category/books/self-help_41/index.html\">\n",
       "                            \n",
       "                                Self Help\n",
       "                            \n",
       "                        </a>\n",
       "</li>\n",
       "<li>\n",
       "<a href=\"catalogue/category/books/historical_42/index.html\">\n",
       "                            \n",
       "                                Historical\n",
       "                            \n",
       "                        </a>\n",
       "</li>\n",
       "<li>\n",
       "<a href=\"catalogue/category/books/christian_43/index.html\">\n",
       "                            \n",
       "                                Christian\n",
       "                            \n",
       "                        </a>\n",
       "</li>\n",
       "<li>\n",
       "<a href=\"catalogue/category/books/suspense_44/index.html\">\n",
       "                            \n",
       "                                Suspense\n",
       "                            \n",
       "                        </a>\n",
       "</li>\n",
       "<li>\n",
       "<a href=\"catalogue/category/books/short-stories_45/index.html\">\n",
       "                            \n",
       "                                Short Stories\n",
       "                            \n",
       "                        </a>\n",
       "</li>\n",
       "<li>\n",
       "<a href=\"catalogue/category/books/novels_46/index.html\">\n",
       "                            \n",
       "                                Novels\n",
       "                            \n",
       "                        </a>\n",
       "</li>\n",
       "<li>\n",
       "<a href=\"catalogue/category/books/health_47/index.html\">\n",
       "                            \n",
       "                                Health\n",
       "                            \n",
       "                        </a>\n",
       "</li>\n",
       "<li>\n",
       "<a href=\"catalogue/category/books/politics_48/index.html\">\n",
       "                            \n",
       "                                Politics\n",
       "                            \n",
       "                        </a>\n",
       "</li>\n",
       "<li>\n",
       "<a href=\"catalogue/category/books/cultural_49/index.html\">\n",
       "                            \n",
       "                                Cultural\n",
       "                            \n",
       "                        </a>\n",
       "</li>\n",
       "<li>\n",
       "<a href=\"catalogue/category/books/erotica_50/index.html\">\n",
       "                            \n",
       "                                Erotica\n",
       "                            \n",
       "                        </a>\n",
       "</li>\n",
       "<li>\n",
       "<a href=\"catalogue/category/books/crime_51/index.html\">\n",
       "                            \n",
       "                                Crime\n",
       "                            \n",
       "                        </a>\n",
       "</li>\n",
       "</ul></li>\n",
       "</ul>"
      ]
     },
     "execution_count": 4,
     "metadata": {},
     "output_type": "execute_result"
    }
   ],
   "source": [
    "# Getting the categories \n",
    "soup.find(\"ul\" , {'class':\"nav nav-list\"})"
   ]
  },
  {
   "cell_type": "code",
   "execution_count": 5,
   "id": "670c00b6",
   "metadata": {},
   "outputs": [],
   "source": [
    "cat_list = soup.find(\"ul\" , {'class':\"nav nav-list\"}).find_all(\"li\")[1:]"
   ]
  },
  {
   "cell_type": "code",
   "execution_count": 6,
   "id": "ba32869a",
   "metadata": {},
   "outputs": [
    {
     "data": {
      "text/plain": [
       "[<li>\n",
       " <a href=\"catalogue/category/books/travel_2/index.html\">\n",
       "                             \n",
       "                                 Travel\n",
       "                             \n",
       "                         </a>\n",
       " </li>,\n",
       " <li>\n",
       " <a href=\"catalogue/category/books/mystery_3/index.html\">\n",
       "                             \n",
       "                                 Mystery\n",
       "                             \n",
       "                         </a>\n",
       " </li>,\n",
       " <li>\n",
       " <a href=\"catalogue/category/books/historical-fiction_4/index.html\">\n",
       "                             \n",
       "                                 Historical Fiction\n",
       "                             \n",
       "                         </a>\n",
       " </li>,\n",
       " <li>\n",
       " <a href=\"catalogue/category/books/sequential-art_5/index.html\">\n",
       "                             \n",
       "                                 Sequential Art\n",
       "                             \n",
       "                         </a>\n",
       " </li>,\n",
       " <li>\n",
       " <a href=\"catalogue/category/books/classics_6/index.html\">\n",
       "                             \n",
       "                                 Classics\n",
       "                             \n",
       "                         </a>\n",
       " </li>]"
      ]
     },
     "execution_count": 6,
     "metadata": {},
     "output_type": "execute_result"
    }
   ],
   "source": [
    "cat_list[:5]"
   ]
  },
  {
   "cell_type": "code",
   "execution_count": 7,
   "id": "6702e542",
   "metadata": {},
   "outputs": [
    {
     "data": {
      "text/plain": [
       "'Travel'"
      ]
     },
     "execution_count": 7,
     "metadata": {},
     "output_type": "execute_result"
    }
   ],
   "source": [
    "# Get the name of each category\n",
    "cat_list[0].find('a').get_text().strip()"
   ]
  },
  {
   "cell_type": "code",
   "execution_count": 8,
   "id": "550f0b15",
   "metadata": {},
   "outputs": [
    {
     "data": {
      "text/plain": [
       "'catalogue/category/books/travel_2/index.html'"
      ]
     },
     "execution_count": 8,
     "metadata": {},
     "output_type": "execute_result"
    }
   ],
   "source": [
    "# Get the link of each category\n",
    "cat_list[0].find('a')['href']"
   ]
  },
  {
   "cell_type": "code",
   "execution_count": 9,
   "id": "eecb7c9a",
   "metadata": {},
   "outputs": [
    {
     "data": {
      "text/plain": [
       "[<article class=\"product_pod\">\n",
       " <div class=\"image_container\">\n",
       " <a href=\"catalogue/a-light-in-the-attic_1000/index.html\"><img alt=\"A Light in the Attic\" class=\"thumbnail\" src=\"media/cache/2c/da/2cdad67c44b002e7ead0cc35693c0e8b.jpg\"/></a>\n",
       " </div>\n",
       " <p class=\"star-rating Three\">\n",
       " <i class=\"icon-star\"></i>\n",
       " <i class=\"icon-star\"></i>\n",
       " <i class=\"icon-star\"></i>\n",
       " <i class=\"icon-star\"></i>\n",
       " <i class=\"icon-star\"></i>\n",
       " </p>\n",
       " <h3><a href=\"catalogue/a-light-in-the-attic_1000/index.html\" title=\"A Light in the Attic\">A Light in the ...</a></h3>\n",
       " <div class=\"product_price\">\n",
       " <p class=\"price_color\">Â£51.77</p>\n",
       " <p class=\"instock availability\">\n",
       " <i class=\"icon-ok\"></i>\n",
       "     \n",
       "         In stock\n",
       "     \n",
       " </p>\n",
       " <form>\n",
       " <button class=\"btn btn-primary btn-block\" data-loading-text=\"Adding...\" type=\"submit\">Add to basket</button>\n",
       " </form>\n",
       " </div>\n",
       " </article>,\n",
       " <article class=\"product_pod\">\n",
       " <div class=\"image_container\">\n",
       " <a href=\"catalogue/tipping-the-velvet_999/index.html\"><img alt=\"Tipping the Velvet\" class=\"thumbnail\" src=\"media/cache/26/0c/260c6ae16bce31c8f8c95daddd9f4a1c.jpg\"/></a>\n",
       " </div>\n",
       " <p class=\"star-rating One\">\n",
       " <i class=\"icon-star\"></i>\n",
       " <i class=\"icon-star\"></i>\n",
       " <i class=\"icon-star\"></i>\n",
       " <i class=\"icon-star\"></i>\n",
       " <i class=\"icon-star\"></i>\n",
       " </p>\n",
       " <h3><a href=\"catalogue/tipping-the-velvet_999/index.html\" title=\"Tipping the Velvet\">Tipping the Velvet</a></h3>\n",
       " <div class=\"product_price\">\n",
       " <p class=\"price_color\">Â£53.74</p>\n",
       " <p class=\"instock availability\">\n",
       " <i class=\"icon-ok\"></i>\n",
       "     \n",
       "         In stock\n",
       "     \n",
       " </p>\n",
       " <form>\n",
       " <button class=\"btn btn-primary btn-block\" data-loading-text=\"Adding...\" type=\"submit\">Add to basket</button>\n",
       " </form>\n",
       " </div>\n",
       " </article>]"
      ]
     },
     "execution_count": 9,
     "metadata": {},
     "output_type": "execute_result"
    }
   ],
   "source": [
    "# Trying to get books in the home page\n",
    "soup.find_all(\"article\" , {'class':\"product_pod\"})[:2]"
   ]
  },
  {
   "cell_type": "code",
   "execution_count": 10,
   "id": "47948d6b",
   "metadata": {},
   "outputs": [
    {
     "data": {
      "text/plain": [
       "'A Light in the Attic'"
      ]
     },
     "execution_count": 10,
     "metadata": {},
     "output_type": "execute_result"
    }
   ],
   "source": [
    "# Get the name of one book then generalize the method\n",
    "soup.find_all(\"article\" , {'class':\"product_pod\"})[0].find(\"h3\").find('a')['title']"
   ]
  },
  {
   "cell_type": "code",
   "execution_count": 11,
   "id": "38b983e3",
   "metadata": {},
   "outputs": [
    {
     "data": {
      "text/plain": [
       "51.77"
      ]
     },
     "execution_count": 11,
     "metadata": {},
     "output_type": "execute_result"
    }
   ],
   "source": [
    "# Get the price of the book\n",
    "float(soup.find_all(\"article\" , {'class':\"product_pod\"})[0].find(\"p\" , {'class':'price_color'}).text[2:])"
   ]
  },
  {
   "cell_type": "code",
   "execution_count": 12,
   "id": "d38a000d",
   "metadata": {},
   "outputs": [
    {
     "data": {
      "text/plain": [
       "'Three'"
      ]
     },
     "execution_count": 12,
     "metadata": {},
     "output_type": "execute_result"
    }
   ],
   "source": [
    "# Get the rate of the book\n",
    "soup.find_all(\"article\" , {'class':\"product_pod\"})[0].find('p')['class'][1]"
   ]
  },
  {
   "cell_type": "markdown",
   "id": "13a50e49",
   "metadata": {},
   "source": [
    "**The rate is not numerical so we should convert it to numerical**"
   ]
  },
  {
   "cell_type": "code",
   "execution_count": 13,
   "id": "87bea667",
   "metadata": {},
   "outputs": [],
   "source": [
    "rate_dict = {\"One\" : 1,\n",
    "            \"Two\" : 2,\n",
    "            \"Three\" : 3,\n",
    "            \"Four\" : 4,\n",
    "            \"Five\" : 5}"
   ]
  },
  {
   "cell_type": "code",
   "execution_count": 14,
   "id": "280d3088",
   "metadata": {},
   "outputs": [
    {
     "data": {
      "text/plain": [
       "3"
      ]
     },
     "execution_count": 14,
     "metadata": {},
     "output_type": "execute_result"
    }
   ],
   "source": [
    "rate_dict[soup.find_all(\"article\" , {'class':\"product_pod\"})[0].find('p')['class'][1]]"
   ]
  },
  {
   "cell_type": "markdown",
   "id": "0f75a5bb",
   "metadata": {},
   "source": [
    "**Everything is good now**"
   ]
  },
  {
   "cell_type": "code",
   "execution_count": 15,
   "id": "2fcda740",
   "metadata": {},
   "outputs": [
    {
     "data": {
      "text/plain": [
       "'catalogue/page-2.html'"
      ]
     },
     "execution_count": 15,
     "metadata": {},
     "output_type": "execute_result"
    }
   ],
   "source": [
    "#Trying to find the next button\n",
    "soup.find(\"li\", {'class':\"next\"}).find('a')['href']"
   ]
  },
  {
   "cell_type": "markdown",
   "id": "03a43dff",
   "metadata": {},
   "source": [
    "**We should make MySQL Connection but there's a security trick first**"
   ]
  },
  {
   "cell_type": "code",
   "execution_count": 16,
   "id": "677d82c4",
   "metadata": {},
   "outputs": [
    {
     "name": "stdout",
     "output_type": "stream",
     "text": [
      "Enter the connection password: ········\n"
     ]
    }
   ],
   "source": [
    "passwd = getpass.getpass(\"Enter the connection password: \")"
   ]
  },
  {
   "cell_type": "markdown",
   "id": "d0efefce",
   "metadata": {},
   "source": [
    "**Creating the database with its name and tables**"
   ]
  },
  {
   "cell_type": "code",
   "execution_count": 17,
   "id": "bff3edf0",
   "metadata": {},
   "outputs": [],
   "source": [
    "DB_Name = \"Books\"\n",
    "\n",
    "Table = {}\n",
    "\n",
    "Table[\"Category\"] = (\n",
    "    \"\"\"CREATE TABLE Books.Category (\n",
    "  CategoryID INT NOT NULL AUTO_INCREMENT,\n",
    "  CategoryName VARCHAR(45) NULL,\n",
    "  PRIMARY KEY (CategoryID),\n",
    "  UNIQUE INDEX CategoryID_UNIQUE (CategoryID ASC) VISIBLE);   \"\"\"\n",
    ")\n",
    "\n",
    "Table['Book'] = (\n",
    "    \"\"\"CREATE TABLE Books.Book (\n",
    "  BookID INT NOT NULL AUTO_INCREMENT,\n",
    "  BookName VARCHAR(255) NULL,\n",
    "  BookPrice DECIMAL(5,2) NULL,\n",
    "  BookRate INT NULL,\n",
    "  CategoryID INT NULL,\n",
    "  PRIMARY KEY (BookID),\n",
    "  INDEX CategoryID_idx (CategoryID ASC) VISIBLE,\n",
    "  CONSTRAINT CategoryID\n",
    "    FOREIGN KEY (CategoryID)\n",
    "    REFERENCES Category (CategoryID)\n",
    "    ON DELETE NO ACTION\n",
    "    ON UPDATE NO ACTION);\n",
    "    \"\"\"\n",
    ")"
   ]
  },
  {
   "cell_type": "code",
   "execution_count": 18,
   "id": "6d241bb3",
   "metadata": {},
   "outputs": [],
   "source": [
    "conn = mysql.connector.connect(user = \"root\",\n",
    "                              password = passwd,\n",
    "                              host = 'localhost')"
   ]
  },
  {
   "cell_type": "code",
   "execution_count": 19,
   "id": "5f73fff3",
   "metadata": {},
   "outputs": [],
   "source": [
    "cursor = conn.cursor()"
   ]
  },
  {
   "cell_type": "markdown",
   "id": "0ba46217",
   "metadata": {},
   "source": [
    "**Create the Database**"
   ]
  },
  {
   "cell_type": "code",
   "execution_count": 20,
   "id": "2a329f78",
   "metadata": {},
   "outputs": [],
   "source": [
    "try:\n",
    "    cursor.execute(f\"CREATE DATABASE {DB_Name}\")\n",
    "except mysql.connector.Error as err:\n",
    "        print(f\"Failed creating database: {err}\")"
   ]
  },
  {
   "cell_type": "code",
   "execution_count": 21,
   "id": "c63e6b60",
   "metadata": {},
   "outputs": [
    {
     "name": "stdout",
     "output_type": "stream",
     "text": [
      "Creating table Category \n",
      "Creating table Book \n"
     ]
    }
   ],
   "source": [
    "for table_name in Table:\n",
    "    table_description = Table[table_name]\n",
    "    try:\n",
    "        print(\"Creating table {} \".format(table_name))\n",
    "        cursor.execute(table_description)\n",
    "    except mysql.connector.Error as err:\n",
    "        print(f\"Failed creating Table : {err}\")"
   ]
  },
  {
   "cell_type": "markdown",
   "id": "866c29e3",
   "metadata": {},
   "source": [
    "**We can select the database now to work directly**"
   ]
  },
  {
   "cell_type": "code",
   "execution_count": 22,
   "id": "58c1cfa8",
   "metadata": {},
   "outputs": [],
   "source": [
    "conn.database = \"Books\""
   ]
  },
  {
   "cell_type": "markdown",
   "id": "b8240b84",
   "metadata": {},
   "source": [
    "**We should fill Category Table first to have the foreign key for Book Table**"
   ]
  },
  {
   "cell_type": "code",
   "execution_count": 23,
   "id": "97271571",
   "metadata": {},
   "outputs": [
    {
     "name": "stdout",
     "output_type": "stream",
     "text": [
      "Travel\n"
     ]
    }
   ],
   "source": [
    "# Check the category first\n",
    "for i in cat_list:\n",
    "    print(i.find('a').get_text().strip())\n",
    "    break"
   ]
  },
  {
   "cell_type": "code",
   "execution_count": 24,
   "id": "977e0645",
   "metadata": {},
   "outputs": [],
   "source": [
    "for i in cat_list:\n",
    "    try:\n",
    "        cursor.execute(\"INSERT INTO Category(CategoryName) VALUES (%s)\" , [i.find('a').get_text().strip()])\n",
    "    except mysql.connector.Error as err:\n",
    "        print(f'Failed inserting value {err}')"
   ]
  },
  {
   "cell_type": "markdown",
   "id": "48d75929",
   "metadata": {},
   "source": [
    "**Everything works fine now , let's commit**"
   ]
  },
  {
   "cell_type": "code",
   "execution_count": 25,
   "id": "d99af46e",
   "metadata": {},
   "outputs": [],
   "source": [
    "conn.commit()"
   ]
  },
  {
   "cell_type": "code",
   "execution_count": 26,
   "id": "a8a74fbf",
   "metadata": {},
   "outputs": [
    {
     "data": {
      "text/plain": [
       "[(1, 'Travel'),\n",
       " (2, 'Mystery'),\n",
       " (3, 'Historical Fiction'),\n",
       " (4, 'Sequential Art'),\n",
       " (5, 'Classics')]"
      ]
     },
     "execution_count": 26,
     "metadata": {},
     "output_type": "execute_result"
    }
   ],
   "source": [
    "# We can try a query to make sure everything is working fine\n",
    "cursor.execute(\"SELECT * FROM Category\")\n",
    "cursor.fetchall()[:5]"
   ]
  },
  {
   "cell_type": "markdown",
   "id": "7a78c7e6",
   "metadata": {},
   "source": [
    "**Looks nice, Now it's time to insert the books**"
   ]
  },
  {
   "cell_type": "code",
   "execution_count": 27,
   "id": "185b057e",
   "metadata": {},
   "outputs": [],
   "source": [
    "add_book = \"INSERT INTO Book(BookName , BookPrice , BookRate , CategoryID) VALUES (%s , %s , %s , %s)\"\n",
    "for i in range(len(cat_list)):\n",
    "    res_cat = requests.get(f\"https://books.toscrape.com/{cat_list[i].find('a')['href']}\")\n",
    "    soup_cat = BeautifulSoup(res_cat.text, 'html.parser')\n",
    "\n",
    "    # Get the books list inside the current category\n",
    "    books_list = soup_cat.find_all(\"article\" , {'class':\"product_pod\"})\n",
    "\n",
    "    # Iterating throug the books list\n",
    "    for book in books_list :\n",
    "        book_name = book.find(\"h3\").find('a')['title']\n",
    "        book_price = float(book.find(\"p\" , {'class':'price_color'}).text[2:])\n",
    "        book_rate = rate_dict[book.find('p')['class'][1]]\n",
    "        cat_name = cat_list[i].find('a').get_text().strip()\n",
    "        data = [book_name , book_price , book_rate , i + 1]\n",
    "        cursor.execute(add_book , data)\n",
    "\n",
    "    #Finding next button\n",
    "    next_ = soup_cat.find(\"li\" , {\"class\":\"next\"})\n",
    "    while next_:\n",
    "        next_page = requests.get(f\"https://books.toscrape.com/{cat_list[i].find('a')['href'][:-10] + next_.find('a')['href']}\")\n",
    "        next_page_soup = BeautifulSoup(next_page.text , 'html.parser')\n",
    "\n",
    "        books_list = next_page_soup.find_all(\"article\" , {'class':\"product_pod\"})\n",
    "\n",
    "        # Iterating throug the books list\n",
    "        for book in books_list :\n",
    "            book_name = book.find(\"h3\").find('a')['title']\n",
    "            book_price = float(book.find(\"p\" , {'class':'price_color'}).text[2:])\n",
    "            book_rate = rate_dict[book.find('p')['class'][1]]\n",
    "            cat_name = cat_list[i].find('a').get_text().strip()\n",
    "            data = [book_name , book_price , book_rate , i + 1]\n",
    "            cursor.execute(add_book , data)\n",
    "\n",
    "        #Asking if there's next button\n",
    "        next_ = next_page_soup.find(\"li\" , {\"class\":\"next\"})\n",
    "        \n",
    "conn.commit()"
   ]
  },
  {
   "cell_type": "markdown",
   "id": "01cb909b",
   "metadata": {},
   "source": [
    "**Without an error, COOL, NOW Let's test SELECT query**"
   ]
  },
  {
   "cell_type": "code",
   "execution_count": 28,
   "id": "e7a5317a",
   "metadata": {},
   "outputs": [
    {
     "data": {
      "text/plain": [
       "[(1, \"It's Only the Himalayas\", Decimal('45.17'), 2, 1),\n",
       " (2,\n",
       "  'Full Moon over Noahâ\\x80\\x99s Ark: An Odyssey to Mount Ararat and Beyond',\n",
       "  Decimal('49.43'),\n",
       "  4,\n",
       "  1),\n",
       " (3,\n",
       "  'See America: A Celebration of Our National Parks & Treasured Sites',\n",
       "  Decimal('48.87'),\n",
       "  3,\n",
       "  1),\n",
       " (4,\n",
       "  'Vagabonding: An Uncommon Guide to the Art of Long-Term World Travel',\n",
       "  Decimal('36.94'),\n",
       "  2,\n",
       "  1),\n",
       " (5, 'Under the Tuscan Sun', Decimal('37.33'), 3, 1)]"
      ]
     },
     "execution_count": 28,
     "metadata": {},
     "output_type": "execute_result"
    }
   ],
   "source": [
    "cursor.execute(\"SELECT * FROM Book\")\n",
    "cursor.fetchall()[:5]"
   ]
  },
  {
   "cell_type": "markdown",
   "id": "87b01bea",
   "metadata": {},
   "source": [
    "**Awesome!!**<br>\n",
    "**Let's try join query**"
   ]
  },
  {
   "cell_type": "code",
   "execution_count": 29,
   "id": "7ea3c45b",
   "metadata": {},
   "outputs": [],
   "source": [
    "cursor.execute(\n",
    "    \"\"\"SELECT * FROM Book\n",
    "    INNER JOIN Category\n",
    "    ON Book.CategoryID = Category.CategoryID\n",
    "    \"\"\"\n",
    ")"
   ]
  },
  {
   "cell_type": "code",
   "execution_count": 30,
   "id": "cff122d9",
   "metadata": {
    "scrolled": false
   },
   "outputs": [
    {
     "data": {
      "text/plain": [
       "[(1, \"It's Only the Himalayas\", Decimal('45.17'), 2, 1, 1, 'Travel'),\n",
       " (2,\n",
       "  'Full Moon over Noahâ\\x80\\x99s Ark: An Odyssey to Mount Ararat and Beyond',\n",
       "  Decimal('49.43'),\n",
       "  4,\n",
       "  1,\n",
       "  1,\n",
       "  'Travel'),\n",
       " (3,\n",
       "  'See America: A Celebration of Our National Parks & Treasured Sites',\n",
       "  Decimal('48.87'),\n",
       "  3,\n",
       "  1,\n",
       "  1,\n",
       "  'Travel'),\n",
       " (4,\n",
       "  'Vagabonding: An Uncommon Guide to the Art of Long-Term World Travel',\n",
       "  Decimal('36.94'),\n",
       "  2,\n",
       "  1,\n",
       "  1,\n",
       "  'Travel'),\n",
       " (5, 'Under the Tuscan Sun', Decimal('37.33'), 3, 1, 1, 'Travel')]"
      ]
     },
     "execution_count": 30,
     "metadata": {},
     "output_type": "execute_result"
    }
   ],
   "source": [
    "cursor.fetchall()[:5]"
   ]
  },
  {
   "cell_type": "markdown",
   "id": "01be5f27",
   "metadata": {},
   "source": [
    "**Very good**<br>\n",
    "**Let's use pandas**"
   ]
  },
  {
   "cell_type": "code",
   "execution_count": 31,
   "id": "e5fcc0c3",
   "metadata": {},
   "outputs": [],
   "source": [
    "select_query = \"\"\"SELECT BookName , BookPrice , BookRate, CategoryName \n",
    "FROM Book\n",
    "INNER JOIN Category\n",
    "ON Book.CategoryID = Category.CategoryID\n",
    "\"\"\""
   ]
  },
  {
   "cell_type": "code",
   "execution_count": 32,
   "id": "691a9cdb",
   "metadata": {},
   "outputs": [],
   "source": [
    "df = pd.read_sql(select_query , conn)"
   ]
  },
  {
   "cell_type": "code",
   "execution_count": 33,
   "id": "70f2001c",
   "metadata": {},
   "outputs": [
    {
     "data": {
      "text/html": [
       "<div>\n",
       "<style scoped>\n",
       "    .dataframe tbody tr th:only-of-type {\n",
       "        vertical-align: middle;\n",
       "    }\n",
       "\n",
       "    .dataframe tbody tr th {\n",
       "        vertical-align: top;\n",
       "    }\n",
       "\n",
       "    .dataframe thead th {\n",
       "        text-align: right;\n",
       "    }\n",
       "</style>\n",
       "<table border=\"1\" class=\"dataframe\">\n",
       "  <thead>\n",
       "    <tr style=\"text-align: right;\">\n",
       "      <th></th>\n",
       "      <th>BookName</th>\n",
       "      <th>BookPrice</th>\n",
       "      <th>BookRate</th>\n",
       "      <th>CategoryName</th>\n",
       "    </tr>\n",
       "  </thead>\n",
       "  <tbody>\n",
       "    <tr>\n",
       "      <th>0</th>\n",
       "      <td>It's Only the Himalayas</td>\n",
       "      <td>45.17</td>\n",
       "      <td>2</td>\n",
       "      <td>Travel</td>\n",
       "    </tr>\n",
       "    <tr>\n",
       "      <th>1</th>\n",
       "      <td>Full Moon over Noahâs Ark: An Odyssey to Mou...</td>\n",
       "      <td>49.43</td>\n",
       "      <td>4</td>\n",
       "      <td>Travel</td>\n",
       "    </tr>\n",
       "    <tr>\n",
       "      <th>2</th>\n",
       "      <td>See America: A Celebration of Our National Par...</td>\n",
       "      <td>48.87</td>\n",
       "      <td>3</td>\n",
       "      <td>Travel</td>\n",
       "    </tr>\n",
       "    <tr>\n",
       "      <th>3</th>\n",
       "      <td>Vagabonding: An Uncommon Guide to the Art of L...</td>\n",
       "      <td>36.94</td>\n",
       "      <td>2</td>\n",
       "      <td>Travel</td>\n",
       "    </tr>\n",
       "    <tr>\n",
       "      <th>4</th>\n",
       "      <td>Under the Tuscan Sun</td>\n",
       "      <td>37.33</td>\n",
       "      <td>3</td>\n",
       "      <td>Travel</td>\n",
       "    </tr>\n",
       "  </tbody>\n",
       "</table>\n",
       "</div>"
      ],
      "text/plain": [
       "                                            BookName  BookPrice  BookRate  \\\n",
       "0                            It's Only the Himalayas      45.17         2   \n",
       "1  Full Moon over Noahâs Ark: An Odyssey to Mou...      49.43         4   \n",
       "2  See America: A Celebration of Our National Par...      48.87         3   \n",
       "3  Vagabonding: An Uncommon Guide to the Art of L...      36.94         2   \n",
       "4                               Under the Tuscan Sun      37.33         3   \n",
       "\n",
       "  CategoryName  \n",
       "0       Travel  \n",
       "1       Travel  \n",
       "2       Travel  \n",
       "3       Travel  \n",
       "4       Travel  "
      ]
     },
     "execution_count": 33,
     "metadata": {},
     "output_type": "execute_result"
    }
   ],
   "source": [
    "df.head(5)"
   ]
  },
  {
   "cell_type": "markdown",
   "id": "ed3bcf6b",
   "metadata": {},
   "source": [
    "**Awesome!!**"
   ]
  },
  {
   "cell_type": "code",
   "execution_count": 34,
   "id": "05d8e53e",
   "metadata": {},
   "outputs": [],
   "source": [
    "conn.close()"
   ]
  }
 ],
 "metadata": {
  "kernelspec": {
   "display_name": "Python 3 (ipykernel)",
   "language": "python",
   "name": "python3"
  },
  "language_info": {
   "codemirror_mode": {
    "name": "ipython",
    "version": 3
   },
   "file_extension": ".py",
   "mimetype": "text/x-python",
   "name": "python",
   "nbconvert_exporter": "python",
   "pygments_lexer": "ipython3",
   "version": "3.9.7"
  }
 },
 "nbformat": 4,
 "nbformat_minor": 5
}
